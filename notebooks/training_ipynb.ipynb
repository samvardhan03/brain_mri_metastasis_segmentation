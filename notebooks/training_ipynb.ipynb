{
  "nbformat": 4,
  "nbformat_minor": 0,
  "metadata": {
    "colab": {
      "provenance": []
    },
    "kernelspec": {
      "name": "python3",
      "display_name": "Python 3"
    },
    "language_info": {
      "name": "python"
    }
  },
  "cells": [
    {
      "cell_type": "code",
      "execution_count": null,
      "metadata": {
        "id": "dnTsqE6GrXzO"
      },
      "outputs": [],
      "source": [
        "from models.nested_unet import nested_unet\n",
        "from models.attention_unet import attention_unet\n",
        "from tensorflow.keras.optimizers import Adam\n",
        "from tensorflow.keras import backend as K\n",
        "import numpy as np\n"
      ]
    },
    {
      "cell_type": "code",
      "source": [
        "# Load preprocessed data\n",
        "train_images = np.load('data/processed/train_images.npy')\n",
        "test_images = np.load('data/processed/test_images.npy')\n",
        "train_masks = np.load('data/processed/train_masks.npy')\n",
        "test_masks = np.load('data/processed/test_masks.npy')\n",
        "\n",
        "\n",
        "\n"
      ],
      "metadata": {
        "id": "-J5SSyMmrx4c"
      },
      "execution_count": null,
      "outputs": []
    },
    {
      "cell_type": "code",
      "source": [
        "# Define DICE coefficient metric\n",
        "def dice_coefficient(y_true, y_pred):\n",
        "    y_true_f = K.flatten(y_true)\n",
        "    y_pred_f = K.flatten(y_pred)\n",
        "    intersection = K.sum(y_true_f * y_pred_f)\n",
        "    return (2. * intersection + 1e-7) / (K.sum(y_true_f) + K.sum(y_pred_f) + 1e-7)\n"
      ],
      "metadata": {
        "id": "o_2Z7y5IrzzN"
      },
      "execution_count": null,
      "outputs": []
    },
    {
      "cell_type": "code",
      "source": [
        "# Instantiate both models\n",
        "input_shape = (256, 256, 1)\n",
        "model_nested_unet = nested_unet(input_shape)\n",
        "model_attention_unet = attention_unet(input_shape)\n",
        "\n",
        "\n"
      ],
      "metadata": {
        "id": "A4tNfLzTr3Rh"
      },
      "execution_count": null,
      "outputs": []
    },
    {
      "cell_type": "code",
      "source": [
        "# Compile models\n",
        "model_nested_unet.compile(optimizer=Adam(), loss='binary_crossentropy', metrics=[dice_coefficient])\n",
        "model_attention_unet.compile(optimizer=Adam(), loss='binary_crossentropy', metrics=[dice_coefficient])\n",
        "\n",
        "# Train models\n",
        "model_nested_unet.fit(train_images, train_masks, validation_data=(test_images, test_masks), epochs=50)\n",
        "model_attention_unet.fit(train_images, train_masks, validation_data=(test_images, test_masks), epochs=50)\n",
        "\n",
        "# Save trained models\n",
        "model_nested_unet.save('models/weights/nested_unet.h5')\n",
        "model_attention_unet.save('models/weights/attention_unet.h5')"
      ],
      "metadata": {
        "id": "xBzpNetbr5vI"
      },
      "execution_count": null,
      "outputs": []
    },
    {
      "cell_type": "code",
      "source": [],
      "metadata": {
        "id": "n2QrgL5RsvvR"
      },
      "execution_count": null,
      "outputs": []
    }
  ]
}